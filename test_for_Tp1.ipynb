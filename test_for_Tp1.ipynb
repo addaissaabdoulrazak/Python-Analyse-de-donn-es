{
 "cells": [
  {
   "cell_type": "code",
   "execution_count": 141,
   "metadata": {},
   "outputs": [],
   "source": [
    "from cmath import sqrt\n",
    "from random import *\n",
    "import matplotlib.pyplot as plt\n",
    "import numpy as np\n",
    "import math\n",
    "import random\n",
    "\n",
    "features=[3,19,10,15,14,12,9,8,11,12,11,12,13,11,14,16]"
   ]
  },
  {
   "cell_type": "code",
   "execution_count": 142,
   "metadata": {},
   "outputs": [
    {
     "name": "stdout",
     "output_type": "stream",
     "text": [
      "\n",
      "----------[Nous aurons un dictionnaire dont à chaqu'une  des observations est associé l'effectif correspondant]----------\n"
     ]
    },
    {
     "data": {
      "text/plain": [
       "{3: 1, 19: 1, 10: 1, 15: 1, 14: 2, 12: 3, 9: 1, 8: 1, 11: 3, 13: 1, 16: 1}"
      ]
     },
     "execution_count": 142,
     "metadata": {},
     "output_type": "execute_result"
    }
   ],
   "source": [
    "def ObservationsByModality(features):\n",
    "   \n",
    "    # initializing the dictionary\n",
    "    effectif = {}\n",
    "\n",
    "    for item in features:\n",
    "         # checking the element in dictionary\n",
    "            if item in effectif:\n",
    "                effectif[item] += 1\n",
    "            else:\n",
    "                effectif[item] = 1\n",
    "\n",
    "  #return a dictionary with double input (key : value)\n",
    "    return effectif\n",
    "pass\n",
    "\n",
    "staffing_dictionary = ObservationsByModality(features)\n",
    "\n",
    "print(\"\\n----------[Nous aurons un dictionnaire dont à chaqu'une  des observations est associé l'effectif correspondant]----------\")\n",
    "\n",
    "staffing_dictionary"
   ]
  },
  {
   "cell_type": "code",
   "execution_count": 143,
   "metadata": {},
   "outputs": [
    {
     "name": "stdout",
     "output_type": "stream",
     "text": [
      "\n",
      "----------[Dans notre dictionnaire a chacune des observations est associé la frequence correspondante]----------\n"
     ]
    },
    {
     "data": {
      "text/plain": [
       "{3: 0.0625,\n",
       " 8: 0.0625,\n",
       " 9: 0.0625,\n",
       " 10: 0.0625,\n",
       " 11: 0.1875,\n",
       " 12: 0.1875,\n",
       " 13: 0.0625,\n",
       " 14: 0.125,\n",
       " 15: 0.0625,\n",
       " 16: 0.0625,\n",
       " 19: 0.0625}"
      ]
     },
     "execution_count": 143,
     "metadata": {},
     "output_type": "execute_result"
    }
   ],
   "source": [
    "#===============================[Frequency by modality]============================================\n",
    "  \n",
    "\"\"\"\n",
    "la fréquence c'est le rapport entre l'effectif d'une variable sur l'effectif total. \n",
    "#=> fi = ni/N \n",
    "\"\"\"\n",
    "\n",
    "def frequencyByModality(features):\n",
    "    \n",
    "    staffing_Table=ObservationsByModality(features)\n",
    "\n",
    "    #dictionnary\n",
    "    frequency_table={}\n",
    "   \n",
    "   #sum of staff\n",
    "    somme_ni=0\n",
    "\n",
    "    # we will remove the duplicates in order to make the sum\n",
    "    features=list(set(features))\n",
    "\n",
    "    for valueObservation in features:\n",
    "            \n",
    "         somme_ni = somme_ni+staffing_Table[valueObservation]\n",
    "\n",
    "    for item in features:\n",
    "        v=staffing_Table[item]\n",
    "        freq = v/somme_ni\n",
    "        frequency_table[item]=freq\n",
    "\n",
    "    return frequency_table\n",
    "pass\n",
    "\n",
    "#call function\n",
    "freq=frequencyByModality(features)\n",
    "\n",
    "print(\"\\n----------[Dans notre dictionnaire a chacune des observations est associé la frequence correspondante]----------\")\n",
    "\n",
    "freq"
   ]
  },
  {
   "cell_type": "code",
   "execution_count": 144,
   "metadata": {},
   "outputs": [
    {
     "name": "stdout",
     "output_type": "stream",
     "text": [
      "\n",
      "----------[la frequence au niveau de chaque modalité correspond à la somme des frequences des modalité qui lui sont inferieur]----------\n"
     ]
    },
    {
     "data": {
      "text/plain": [
       "{3: 0.0625,\n",
       " 8: 0.125,\n",
       " 9: 0.1875,\n",
       " 10: 0.25,\n",
       " 11: 0.4375,\n",
       " 12: 0.625,\n",
       " 13: 0.6875,\n",
       " 14: 0.8125,\n",
       " 15: 0.875,\n",
       " 16: 0.9375,\n",
       " 19: 1.0}"
      ]
     },
     "execution_count": 144,
     "metadata": {},
     "output_type": "execute_result"
    }
   ],
   "source": [
    "def CumulativeFrequencyByModality(features):\n",
    "    \n",
    "   frequency_dictionnary=frequencyByModality(features)\n",
    "\n",
    "   cumul_dictionary={}\n",
    "\n",
    "   somme_f=0\n",
    "  \n",
    "   features.sort()\n",
    "\n",
    "   features=list(set(features))\n",
    "\n",
    "\n",
    "   for valeursObservation in features:\n",
    "\n",
    "    somme_f=0\n",
    "\n",
    "    for key, value in frequency_dictionnary.items() :\n",
    "        if((valeursObservation > 0) & (key==features[0]==valeursObservation)):\n",
    "          \n",
    "                cumul_dictionary[valeursObservation]=value\n",
    "\n",
    "                \n",
    "        elif((valeursObservation>0) & (key <= valeursObservation)) :\n",
    "\n",
    "            somme_f+=value\n",
    "            cumul_dictionary[valeursObservation] = somme_f\n",
    "            \n",
    "   return (cumul_dictionary)\n",
    "pass\n",
    "\n",
    "#call function\n",
    "cumul=CumulativeFrequencyByModality(features)\n",
    "\n",
    "print(\"\\n----------[la frequence au niveau de chaque modalité correspond à la somme des frequences des modalité qui lui sont inferieur]----------\")\n",
    "\n",
    "cumul"
   ]
  },
  {
   "cell_type": "code",
   "execution_count": 145,
   "metadata": {},
   "outputs": [
    {
     "name": "stdout",
     "output_type": "stream",
     "text": [
      "\n",
      "----------[Affichage]----------\n",
      "\n",
      "pour cet exemple de serie d'observation [3, 8, 9, 10, 11, 11, 11, 12, 12, 12, 13, 14, 14, 15, 16, 19] la mediane est : 12\n"
     ]
    }
   ],
   "source": [
    "#===============================[Médiane]==============================\n",
    "\n",
    "def median(features) :\n",
    "\n",
    "    # sorted array\n",
    "    features.sort()\n",
    "\n",
    "    #length of the array\n",
    "    length = len(features)\n",
    "\n",
    "    n=length//2\n",
    "\n",
    "    mediane=0\n",
    "\n",
    "    if(length % 2 == 0) :                            \n",
    "        rang = (n)+1\n",
    "        rangPython= rang-1\n",
    "        mediane=math.ceil(features[int(rangPython)])\n",
    "\n",
    "\n",
    "    else:\n",
    "        rang = (length+1)/2    \n",
    "\n",
    "        rangPython=rang-1\n",
    "\n",
    "        mediane= features[int(rangPython)]\n",
    " \n",
    "\n",
    "    return mediane\n",
    "pass\n",
    "\n",
    "#call function \n",
    "med= median(features)\n",
    "\n",
    "print(\"\\n----------[Affichage]----------\\n\")\n",
    "\n",
    "print(\"pour cet exemple de serie d'observation \"+ str(features)+\" la mediane est : \"+ str(med))\n"
   ]
  },
  {
   "cell_type": "code",
   "execution_count": 146,
   "metadata": {},
   "outputs": [],
   "source": [
    "#===============================[Moyenne]==============================\n",
    "\n",
    "def calculMoyenne(features) :\n",
    "    \n",
    "\n",
    "    features_size=len(features)\n",
    "\n",
    "    sum_xi=0\n",
    "\n",
    "    if features_size > 0 :\n",
    "\n",
    "        for valeurObservaion in features :\n",
    "\n",
    "            sum_xi=sum_xi + valeurObservaion\n",
    "\n",
    "        moyenne=sum_xi/features_size\n",
    "\n",
    "        return moyenne\n",
    "pass"
   ]
  },
  {
   "cell_type": "code",
   "execution_count": 147,
   "metadata": {},
   "outputs": [
    {
     "data": {
      "text/plain": [
       "12.234375"
      ]
     },
     "execution_count": 147,
     "metadata": {},
     "output_type": "execute_result"
    }
   ],
   "source": [
    "#===============================[Moyenne]==============================\n",
    "\n",
    "def calculMoyenne(features) :\n",
    "    \n",
    "\n",
    "    features_size=len(features)\n",
    "\n",
    "    sum_xi=0\n",
    "\n",
    "    if features_size > 0 :\n",
    "\n",
    "        for valeurObservaion in features :\n",
    "\n",
    "            sum_xi=sum_xi + valeurObservaion\n",
    "\n",
    "        moyenne=sum_xi/features_size\n",
    "\n",
    "        return moyenne\n",
    "pass\n",
    "\n",
    "#===============================[Variance]==============================\n",
    "\n",
    "def variance(features):\n",
    "\n",
    "    moyenne=calculMoyenne(features)\n",
    "\n",
    "    sum_of_mean_square_deviation=0\n",
    "\n",
    "    features_size=len(features)\n",
    "\n",
    "    for valeursObservation in features:\n",
    "\n",
    "        sum_of_mean_square_deviation = sum_of_mean_square_deviation + ((valeursObservation-moyenne)**2)\n",
    "\n",
    "    variance=(sum_of_mean_square_deviation/features_size)\n",
    "\n",
    "    return (variance)   \n",
    "pass\n",
    "\n",
    "#call function\n",
    "\n",
    "_var_ = variance(features)\n",
    "\n",
    "_var_"
   ]
  },
  {
   "cell_type": "code",
   "execution_count": 148,
   "metadata": {},
   "outputs": [],
   "source": [
    "#===============================[ Calcul Centered moment order r ]============================== \n",
    "def CenteredMoment(order,features):\n",
    "    \n",
    "    moyenne=calculMoyenne(features)\n",
    "\n",
    "    sum_of_mean_square_deviation=0\n",
    "    \n",
    "    features_size=len(features)\n",
    "    for valeursObservation in features:\n",
    "        sum_of_mean_square_deviation = sum_of_mean_square_deviation + ((valeursObservation-moyenne)**order)\n",
    "\n",
    "    centered_moment_order_r =(sum_of_mean_square_deviation/features_size)\n",
    "\n",
    "    return centered_moment_order_r\n",
    "pass"
   ]
  },
  {
   "cell_type": "code",
   "execution_count": 149,
   "metadata": {},
   "outputs": [],
   "source": [
    "#===============================[Coefficient D'aplatissement de Pearson]================================ \n",
    "\n",
    "def kurtosis(features):\n",
    "\n",
    "    moyenne=calculMoyenne(features)  \n",
    "\n",
    "    sum_of_mean_square_deviation=0\n",
    "    sum_of_mean_square_deviation_2=0\n",
    "    features_size=len(features)\n",
    "\n",
    "    # Centered Moment order 4\n",
    "    for valeursObservation in features:\n",
    "       \n",
    "        sum_of_mean_square_deviation = sum_of_mean_square_deviation + ((valeursObservation-moyenne)**4)\n",
    "\n",
    "    centered_moment_order_4=(sum_of_mean_square_deviation/features_size)\n",
    "\n",
    "    # Centered Moment order 2\n",
    "    for valeursObservation in features:\n",
    "       \n",
    "        sum_of_mean_square_deviation_2 = sum_of_mean_square_deviation_2 + ((valeursObservation-moyenne)**2)\n",
    "\n",
    "    centered_moment_order_2=(sum_of_mean_square_deviation_2/features_size)\n",
    "\n",
    "    beta=((centered_moment_order_4)/((centered_moment_order_2)**2))\n",
    "\n",
    "    print(beta)"
   ]
  },
  {
   "cell_type": "code",
   "execution_count": 150,
   "metadata": {},
   "outputs": [],
   "source": [
    "def standarDeviation(features)  :\n",
    "\n",
    "    var=variance(features)\n",
    "    std =sqrt(var)\n",
    "    return std\n",
    "pass"
   ]
  },
  {
   "cell_type": "code",
   "execution_count": 151,
   "metadata": {},
   "outputs": [],
   "source": [
    "#===============================[Coefficient Asymetrique de fisher]============================== \n",
    "\n",
    "def Skewness(features):\n",
    "\n",
    "    moyenne=calculMoyenne(features)\n",
    "\n",
    "    std=standarDeviation(features)\n",
    "\n",
    "    sum_of_mean_square_deviation=0\n",
    "\n",
    "    features_size=len(features)\n",
    "\n",
    "    for valeursObservation in features:\n",
    "       \n",
    "        sum_of_mean_square_deviation = sum_of_mean_square_deviation + ((valeursObservation-moyenne)**3)\n",
    "\n",
    "    centered_moment_order = (sum_of_mean_square_deviation/features_size)\n",
    "\n",
    "    gamma=((centered_moment_order)/(std**3))\n",
    "\n",
    "    print(gamma)"
   ]
  },
  {
   "cell_type": "code",
   "execution_count": 152,
   "metadata": {},
   "outputs": [
    {
     "name": "stdout",
     "output_type": "stream",
     "text": [
      "\n",
      "--------------------[Résultat de l'exécution]--------------------\n",
      "\n",
      "première valeur superieur a 0.5 est : 0.625\n",
      "la mediane en function de la frequence cumulé : la projection de la valeur 0.625 donne une médiane égal à : 12\n"
     ]
    }
   ],
   "source": [
    "#===============================[Median en utilisant la frequence cumulé]==============================\n",
    "\n",
    "def medianAccordingCumulativeFrenquency(features):\n",
    "    \n",
    "    cumul_dictionary=CumulativeFrequencyByModality(features)\n",
    "\n",
    "    features_size=len(features)\n",
    "    Quotient=0\n",
    "\n",
    "    if(features_size%2==0):\n",
    "\n",
    "        rang=(features_size//2)+1\n",
    "\n",
    "        rangPython=rang-1\n",
    "\n",
    "        median=features[rangPython]\n",
    "\n",
    "        Quotient=rangPython/features_size\n",
    "        #print(Quotient)\n",
    "\n",
    "        for key,valueObservation in cumul_dictionary.items() :\n",
    "            if(valueObservation>=Quotient):\n",
    "                print(\"première valeur superieur a \"+str(Quotient)+\" est : \" +str(valueObservation))\n",
    "                print(\"la mediane en function de la frequence cumulé : la projection de la valeur \"+str(valueObservation)+ \" donne une médiane égal à : \"+str(key))\n",
    "                return \n",
    "\n",
    "    else:\n",
    "        rang=((features_size+1)//2)\n",
    "        rangPython=rang-1\n",
    "        mediane=features[rangPython]\n",
    "\n",
    "        Quotient=rangPython/features_size\n",
    "        print(Quotient)\n",
    "        for key,valueObservation in cumul_dictionary.items() :\n",
    "            if(valueObservation>=Quotient):\n",
    "                print(\"première valeur superieur a \"+str(Quotient)+\" est : \" +str(valueObservation))\n",
    "                \n",
    "                print(\"la mediane en function de la frequence cumulé : la projection de la valeur \"+str(valueObservation)+ \" donne une médiane égal à : \"+str(key))\n",
    "                return\n",
    "pass\n",
    "\n",
    "#call function \n",
    "\n",
    "print(\"\\n--------------------[Résultat de l'exécution]--------------------\\n\")\n",
    "medianAccordingCumulativeFrenquency(features)\n"
   ]
  },
  {
   "cell_type": "code",
   "execution_count": 153,
   "metadata": {},
   "outputs": [
    {
     "data": {
      "image/png": "[encoded data removed]",
      "text/plain": [
       "<Figure size 640x480 with 1 Axes>"
      ]
     },
     "metadata": {},
     "output_type": "display_data"
    }
   ],
   "source": [
    "#===============================[boite à moustaches]============================== \n",
    "\n",
    "def boiteMoustaches(features):\n",
    "\n",
    "    plt.subplot(2, 2 , 4)\n",
    "    plt.boxplot(features)\n",
    "    plt.title( \"Boite à moustaches \" )\n",
    "    plt.show()\n",
    "pass\n",
    "\n",
    "#call function\n",
    "boiteMoustaches(features)\n"
   ]
  },
  {
   "cell_type": "code",
   "execution_count": 154,
   "metadata": {},
   "outputs": [],
   "source": [
    "#======================================[Etude d'une Variable Statistique]========================================================\n",
    "\n",
    "#1-Covariance\n",
    "\n",
    "def covariance(x, y):\n",
    "\n",
    "    # Finding the mean of the series x and y\n",
    "    mean_x = sum(x)/float(len(x))\n",
    "    mean_y = sum(y)/float(len(y))\n",
    "    # Subtracting mean from the individual elements\n",
    "    sub_x = [i - mean_x for i in x]\n",
    "    sub_y = [i - mean_y for i in y]\n",
    "    numerator = sum([sub_x[i]*sub_y[i] for i in range(len(sub_x))])\n",
    "    denominator = len(x)\n",
    "    cov = numerator/denominator\n",
    "    return cov\n",
    "pass\n"
   ]
  },
  {
   "cell_type": "code",
   "execution_count": 155,
   "metadata": {},
   "outputs": [],
   "source": [
    "#======================================[Etude d'une Variable Statistique]========================================================\n",
    "\n",
    "#2-Corelation\n",
    "\n",
    "def correlation(x, y):\n",
    "\n",
    "    # Finding the mean of the series x and y\n",
    "    mean_x = sum(x)/float(len(x))\n",
    "    mean_y = sum(y)/float(len(y))\n",
    "\n",
    "    # Subtracting mean from the individual elements\n",
    "    sub_x = [i-mean_x for i in x]\n",
    "    sub_y = [i-mean_y for i in y]\n",
    "\n",
    "    # covariance for x and y\n",
    "    numerator = sum([sub_x[i]*sub_y[i] for i in range(len(sub_x))])\n",
    "\n",
    "    # Standard Deviation of x and y\n",
    "    std_deviation_x = sum([sub_x[i]**2.0 for i in range(len(sub_x))])\n",
    "    std_deviation_y = sum([sub_y[i]**2.0 for i in range(len(sub_y))])\n",
    "\n",
    "    # squaring by 0.5 to find the square root\n",
    "    denominator = (std_deviation_x*std_deviation_y)**0.5 \n",
    "    cor = numerator/denominator\n",
    "    return cor\n",
    "pass"
   ]
  },
  {
   "cell_type": "code",
   "execution_count": 156,
   "metadata": {},
   "outputs": [],
   "source": [
    "def LinearRegression1(x,y):\n",
    "\n",
    "    a=covariance(x,y)/variance(x)\n",
    "    x=calculMoyenne(x)\n",
    "    y=calculMoyenne(y)\n",
    "    b= y-(a*x)\n",
    "    return (a,b)\n",
    "pass"
   ]
  },
  {
   "cell_type": "code",
   "execution_count": 157,
   "metadata": {},
   "outputs": [
    {
     "name": "stdout",
     "output_type": "stream",
     "text": [
      "Estimated coefficients:\n",
      "b_0 = 2.25            \n",
      "b_1 = -0.8333333333333335\n"
     ]
    },
    {
     "data": {
      "image/png": "[encoded data removed]",
      "text/plain": [
       "<Figure size 640x480 with 1 Axes>"
      ]
     },
     "metadata": {},
     "output_type": "display_data"
    }
   ],
   "source": [
    "#==========================================[Linear Regression curve]=============================================================\n",
    "\n",
    "def plot_regression_line(x, y, b):\n",
    "    # plotting the actual points as scatter plot\n",
    "    plt.scatter(x, y, color = \"m\",\n",
    "               marker = \"o\", s = 30)\n",
    "  \n",
    "    # predicted response vector\n",
    "    y_pred = b[0] + b[1]*x\n",
    "  \n",
    "    # plotting the regression line\n",
    "    plt.plot(x, y_pred, color = \"g\")\n",
    "  \n",
    "    # putting labels\n",
    "    plt.xlabel('x')\n",
    "    plt.ylabel('y')\n",
    "  \n",
    "    # function to show plot\n",
    "    plt.show()\n",
    "\n",
    "\n",
    "def main():\n",
    "    # observations / data\n",
    "    array1 = np.array([1,2,3])\n",
    "    array2 = np.array([2,4,5])\n",
    "  \n",
    "    # estimating coefficients\n",
    "    b = LinearRegression1(array1, array2)\n",
    "    print(\"Estimated coefficients:\\nb_0 = {}  \\\n",
    "          \\nb_1 = {}\".format(b[0], b[1]))\n",
    "  \n",
    "    # plotting regression line\n",
    "    plot_regression_line(array1, array2, b)\n",
    "  \n",
    "if __name__ == \"__main__\":\n",
    "    main()"
   ]
  }
 ],
 "metadata": {
  "kernelspec": {
   "display_name": "Python 3.10.7 64-bit",
   "language": "python",
   "name": "python3"
  },
  "language_info": {
   "codemirror_mode": {
    "name": "ipython",
    "version": 3
   },
   "file_extension": ".py",
   "mimetype": "text/x-python",
   "name": "python",
   "nbconvert_exporter": "python",
   "pygments_lexer": "ipython3",
   "version": "3.10.7"
  },
  "orig_nbformat": 4,
  "vscode": {
   "interpreter": {
    "hash": "d3e10ef16274dd72e574b8fa73b58450b957d8421a2901baded3cca26fcf5dda"
   }
  }
 },
 "nbformat": 4,
 "nbformat_minor": 2
}
